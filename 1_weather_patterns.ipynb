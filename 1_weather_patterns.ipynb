{
 "cells": [
  {
   "cell_type": "markdown",
   "metadata": {},
   "source": [
    "## Importing and setting up paths"
   ]
  },
  {
   "cell_type": "code",
   "execution_count": 50,
   "metadata": {
    "collapsed": false,
    "jupyter": {
     "outputs_hidden": false
    }
   },
   "outputs": [],
   "source": [
    "import sys,os,importlib,gc\n",
    "import xarray as xr\n",
    "import numpy as np\n",
    "import pandas as pd\n",
    "\n",
    "%matplotlib inline\n",
    "import matplotlib\n",
    "import matplotlib.pyplot as plt\n",
    "from matplotlib.backends.backend_pdf import PdfPages\n",
    "\n",
    "os.chdir('/home/peter/Projects/tc_emulator/results')\n",
    "\n",
    "sys.path.append('../scripts')\n",
    "import _weather_pattern_class; importlib.reload(_weather_pattern_class)\n",
    "\n",
    "atl = _weather_pattern_class.weather_patterns(source='ERA5', working_directory='./')"
   ]
  },
  {
   "cell_type": "markdown",
   "metadata": {},
   "source": [
    "## Prepare weather patterns"
   ]
  },
  {
   "cell_type": "markdown",
   "metadata": {},
   "source": [
    "### prepare input\n",
    "\n",
    "here the raw data is loaded and some preprocessing is applied:\n",
    "\n",
    "* select ASO\n",
    "* compute standardized anomalies\n",
    "* regrid to 2.5x2.5 over 90W-10W and 10N-30N"
   ]
  },
  {
   "cell_type": "code",
   "execution_count": 51,
   "metadata": {
    "collapsed": false,
    "jupyter": {
     "outputs_hidden": false
    }
   },
   "outputs": [],
   "source": [
    "# load MSLP and VWS\n",
    "# these fields were preprocessed using the scripts in input_data_preparation\n",
    "tmp = xr.load_dataset('/home/peter/Projects/data/ERA5/ERA5_vws_atl_1x1_daily_rmTC.nc')['vws'].loc['1982':'2020']\n",
    "atl.add_data(tmp, 'VWS', 'PRGn_r')\n",
    "tmp = xr.load_dataset('/home/peter/Projects/data/ERA5/ERA5_MSLP_atl_1x1_daily_rmTC.nc')['MSLP'].loc['1982':'2020']\n",
    "atl.add_data(tmp, 'MSLP', 'RdBu_r')"
   ]
  },
  {
   "cell_type": "code",
   "execution_count": 52,
   "metadata": {
    "collapsed": false,
    "jupyter": {
     "outputs_hidden": false
    }
   },
   "outputs": [
    {
     "name": "stderr",
     "output_type": "stream",
     "text": [
      "/home/peter/miniconda3/envs/py_main/lib/python3.9/site-packages/xarray/core/dataarray.py:789: FutureWarning: elementwise comparison failed; returning scalar instead, but in the future will perform elementwise comparison\n",
      "  return key in self.data\n"
     ]
    }
   ],
   "source": [
    "# the input is transformed to standardized anomalies and only the ASO season is considered\n",
    "atl.preprocess_select_months(months=[8,9,10], month_colors=['#bfef45','#ffe119','#f58231'])\n",
    "atl.preprocess_standardized_anomalies(['1982','2011'])\n",
    "atl.preprocess_regrid(reference_lats=np.arange(10, 30, 2.5),reference_lons=np.arange(-90, -10, 2.5))\n",
    "atl.preprocess_create_vector(variables = ['VWS','MSLP'])\n",
    "atl.store_input('ERA5_VWS-MSLP_noTC3')"
   ]
  },
  {
   "cell_type": "markdown",
   "metadata": {},
   "source": [
    "### load input"
   ]
  },
  {
   "cell_type": "code",
   "execution_count": 53,
   "metadata": {
    "collapsed": false,
    "jupyter": {
     "outputs_hidden": false
    }
   },
   "outputs": [],
   "source": [
    "atl.load_input('ERA5_VWS-MSLP_noTC3')\n",
    "years = np.array(range(1982,2021))\n",
    "atl.set_split(years=years)"
   ]
  },
  {
   "cell_type": "markdown",
   "metadata": {},
   "source": [
    "### SOM weather patterns\n",
    "\n",
    "Weather patterns are obtained from **S**elf **O**rganizing **M**aps \\"
   ]
  },
  {
   "cell_type": "code",
   "execution_count": 74,
   "metadata": {
    "collapsed": false,
    "jupyter": {
     "outputs_hidden": false
    }
   },
   "outputs": [],
   "source": [
    "from minisom import MiniSom\n",
    "from sklearn.metrics import pairwise_distances\n",
    "\n",
    "def SOM_(X):\n",
    "    som = MiniSom(nrows,ncols,X.shape[1], random_seed=seed, sigma=1,learning_rate=0.01)\n",
    "    som.pca_weights_init(atl._vector.values)\n",
    "    som.train(X, 1000000, verbose=False)\n",
    "    out = {'centers_map':som.get_weights().reshape((nrows*ncols,X.shape[1])), 'other_results':{'SOM':som}}\n",
    "    return out\n",
    "\n",
    "nrows,ncols = 5,4\n",
    "seed = 1\n",
    "tag = 'SOM_pcaInit%sx%s_v%s' % (nrows,ncols,seed)\n",
    "atl.mapping_raw()\n",
    "atl.load_mapping('mapping_raw')\n",
    "atl.clustering_wrapper(SOM_, tag=tag, overwrite=True)"
   ]
  },
  {
   "cell_type": "markdown",
   "metadata": {},
   "source": [
    "#### Load weather patterns"
   ]
  },
  {
   "cell_type": "code",
   "execution_count": 75,
   "metadata": {
    "collapsed": false,
    "jupyter": {
     "outputs_hidden": false
    }
   },
   "outputs": [
    {
     "name": "stdout",
     "output_type": "stream",
     "text": [
      "{'SOM': <minisom.MiniSom object at 0x7fc058b97130>}\n",
      ".//ERA5_VWS-MSLP_noTC3/mapping_raw_1982-2020/SOM_pcaInit5x4_v1/mapping_sammon_1982-2020/grid_5x4\n"
     ]
    }
   ],
   "source": [
    "tag = 'SOM_pcaInit%sx%s_v%s' % (nrows,ncols,seed)\n",
    "atl.define_plot_environment(pre_mapping='mapping_raw', clustering=tag, post_mapping='mapping_sammon_1982-2020', nrows=nrows, ncols=ncols)\n",
    "atl.stats_TC(file='tracks/tracks_ibtracks.csv', overwrite=True)"
   ]
  },
  {
   "cell_type": "code",
   "execution_count": 76,
   "metadata": {
    "collapsed": false,
    "jupyter": {
     "outputs_hidden": false
    }
   },
   "outputs": [
    {
     "name": "stderr",
     "output_type": "stream",
     "text": [
      "/home/peter/Projects/tc_emulator/scripts/_weather_pattern_class.py:932: MatplotlibDeprecationWarning: normalize=None does not normalize if the sum is less than 1 but this behavior is deprecated since 3.3 until two minor releases later. After the deprecation period the default value will be normalize=True. To prevent normalization pass normalize=False \n",
      "  wedges, autotexts = ax.pie(self._stats['freq_dec'].loc[lab].values, colors=self._decades['dec_colors'], startangle=90, radius=self._stats['count'].loc[lab].values)\n"
     ]
    }
   ],
   "source": [
    "atl.plot_fields()\n",
    "atl.stats_frequency()\n",
    "atl.plot_freq()\n",
    "atl.plot_label_trend()\n",
    "\n",
    "# scatter plot\n",
    "atl.plot_events(indicator='wind', legend_values=[64,96,137], legend_name='wind speed [kn]')\n",
    "atl.plot_events(indicator='ACE')\n",
    "\n",
    "# lagged stats\n",
    "atl.plot_stats(indicator='ACE')\n",
    "atl.plot_stats(indicator='genesis')"
   ]
  },
  {
   "cell_type": "code",
   "execution_count": null,
   "metadata": {},
   "outputs": [],
   "source": []
  }
 ],
 "metadata": {
  "kernelspec": {
   "display_name": "py_main",
   "language": "python",
   "name": "py_main"
  },
  "language_info": {
   "codemirror_mode": {
    "name": "ipython",
    "version": 3
   },
   "file_extension": ".py",
   "mimetype": "text/x-python",
   "name": "python",
   "nbconvert_exporter": "python",
   "pygments_lexer": "ipython3",
   "version": "3.9.7"
  },
  "name": "1_weather_patterns.ipynb"
 },
 "nbformat": 4,
 "nbformat_minor": 4
}
