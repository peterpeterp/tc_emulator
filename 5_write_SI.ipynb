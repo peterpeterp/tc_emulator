{
 "cells": [
  {
   "cell_type": "code",
   "execution_count": 21,
   "metadata": {
    "collapsed": false,
    "jupyter": {
     "outputs_hidden": false
    }
   },
   "outputs": [
    {
     "name": "stdout",
     "output_type": "stream",
     "text": [
      "{'SOM': <minisom.MiniSom object at 0x7f9c24a2ca90>}\n",
      ".//ERA5_VWS-MSLP_noTC3/mapping_raw_1982-2020/SOM_pcaInit5x4_v1/mapping_sammon_1982-2020/grid_5x4\n"
     ]
    }
   ],
   "source": [
    "import sys,os,importlib,gc, re, string,pickle\n",
    "import xarray as xr\n",
    "import numpy as np\n",
    "import pandas as pd\n",
    "\n",
    "%matplotlib inline\n",
    "import matplotlib\n",
    "import matplotlib.pyplot as plt\n",
    "from matplotlib.backends.backend_pdf import PdfPages\n",
    "\n",
    "os.chdir('/home/peter/Projects/tc_emulator/results')\n",
    "\n",
    "sys.path.append('../scripts')\n",
    "import _weather_pattern_class; importlib.reload(_weather_pattern_class)\n",
    "\n",
    "atl = _weather_pattern_class.weather_patterns(source='ERA5', working_directory='./')\n",
    "atl.load_input('ERA5_VWS-MSLP_noTC3')\n",
    "years = np.array(range(1982,2021))\n",
    "atl.set_split(years=years)\n",
    "nrows,ncols = 5,4\n",
    "tag = 'SOM_pcaInit%sx%s_v1' % (nrows,ncols)\n",
    "atl.define_plot_environment(pre_mapping='mapping_raw', clustering=tag, post_mapping='mapping_sammon_1982-2020', nrows=nrows, ncols=ncols)\n",
    "atl.stats_TC(file='tracks/tracks_ibtracks.csv', overwrite=False)"
   ]
  },
  {
   "cell_type": "code",
   "execution_count": 22,
   "metadata": {
    "collapsed": false,
    "jupyter": {
     "outputs_hidden": false
    }
   },
   "outputs": [],
   "source": [
    "comp_names = {\n",
    "    'gWeaLag2Weight' : '',\n",
    "    'gWeaLag2' : 'equal weight',\n",
    "    'gWea' : 'no lag',\n",
    "    'gnnWeaSST' : 'NN weather + SST',\n",
    "    'sLWeaNeigh' : '',\n",
    "    'sLWea' : 'no neighbors',\n",
    "    'sLAll' : 'random',\n",
    "    'wS100nnQrSST' : '',\n",
    "    'wS50nnQrSST' : '50NN qr sst',\n",
    "    'wS100nnQrSSTrel' : 'rel. SSTs',\n",
    "    'wS100nnQrSSTwindChBefore' : 'incl. intens. ch. before',\n",
    "    'wS100nn' : '100 nn',\n",
    "    'wS50nn' : '50 nn',\n",
    "    'wS20nn' : '20 nn',\n",
    "    'wS50nnBCpost' : 'nn BC',\n",
    "    'wS50nnNoSSTBC' : 'nn BC',\n",
    "    'wS100nnNoSST' : 'no SST',\n",
    "    'wS100nnQrSSTnoHist' : 'no history',\n",
    "    'wS100nnQrSSTnoWeather' : 'no weather',\n",
    "    'g' : 'formation',\n",
    "    'sL' : 'duration',\n",
    "    'wS': 'intensification'\n",
    "    }\n",
    "\n",
    "def siggi(s):\n",
    "    if np.isnan(s): return ''\n",
    "    if s < 0.1: return '*'\n",
    "    #if s < 0.1: return '*'\n",
    "    return ''\n",
    "\n"
   ]
  },
  {
   "cell_type": "code",
   "execution_count": 23,
   "metadata": {
    "collapsed": false,
    "jupyter": {
     "outputs_hidden": false
    }
   },
   "outputs": [],
   "source": [
    "# choose components\n",
    "alphabet = iter(list(string.ascii_uppercase))\n",
    "alphabet2 = iter(list(string.ascii_uppercase))\n",
    "version = iter(range(1,100))\n",
    "comps_todo = [\n",
    "    {'g':'gWeaLag2Weight', 'sL':'sLWeaNeigh', 'wS':'wS100nnQrSST', 'Emu':'Emu0', 'name':'main','l':next(alphabet),'c':'c', 'v':'main', 'vc':''},\n",
    "    ]\n",
    "for i,g in enumerate(['gWea', 'gWeaLag2', 'gnnWeaSST']):\n",
    "    comps_todo.append({'g':g, 'sL':'sLWeaNeigh', 'wS':'wS100nnQrSST', 'Emu':'Emu0', 'name':'formation: '+comp_names[g],'l':next(alphabet),'c':'m', 'v':'v%s' %(next(version)), 'vc':'vG%s' %(i)})\n",
    "for i,sL in enumerate(['sLAll','sLWea']):\n",
    "    comps_todo.append({'g':'gWeaLag2Weight', 'sL':sL, 'wS':'wS100nnQrSST', 'Emu':'Emu0', 'name':'duration: '+comp_names[sL],'l':next(alphabet),'c':'orange', 'v':'v%s' %(next(version)), 'vc':'vD%s' %(i)})\n",
    "for i,wS in enumerate(['wS100nn','wS20nn','wS100nnNoSST','wS100nnQrSSTnoWeather','wS100nnQrSSTnoHist']):\n",
    "    # for i,wS in enumerate(['wS20nn','wS50nn','wS100nn'][::-1]):\n",
    "    comps_todo.append({'g':'gWeaLag2Weight', 'sL':'sLWeaNeigh', 'wS':wS, 'Emu':'Emu0', 'name':'intensification: '+comp_names[wS],'l':next(alphabet),'c':'r', 'v':'v%s' %(next(version)), 'vc':'vI%s' %(i)})\n"
   ]
  },
  {
   "cell_type": "code",
   "execution_count": 24,
   "metadata": {
    "collapsed": false,
    "jupyter": {
     "outputs_hidden": false
    }
   },
   "outputs": [],
   "source": [
    "indicator_dict = {\n",
    "    'genesis' : 'storm formations',\n",
    "    'storm_days' : 'storm days',\n",
    "    'wind' : 'max. daily wind speed',\n",
    "    'stoMaxWind_vs_stoLen' : 'max. wind vs storm length',\n",
    "    'wind_vs_stoD' : 'max. wind vs storm day',\n",
    "    'dWind_vs_stoD' : 'change in max. wind vs storm day',\n",
    "    'wind' : 'acc. daily max. wind speeds',\n",
    "    'ACE' : 'ACE',\n",
    "    'Hur' : 'hurricanes',\n",
    "    'MajHur' : 'major hurricanes',\n",
    "    'pearson_median' : 'Pearson coef. of median',\n",
    "    'pearson_mean' : 'Pearson coef. of mean',\n",
    "    'spearman_median' : 'Spearman coef. of median',\n",
    "    'spearman_mean' : 'Spearman coef. of mean',\n",
    "}\n",
    "\n",
    "for q in [5,17,83,95]:\n",
    "    indicator_dict[q] = '%sth percentile' %(q)\n"
   ]
  },
  {
   "cell_type": "code",
   "execution_count": 25,
   "metadata": {
    "collapsed": false,
    "jupyter": {
     "outputs_hidden": false
    }
   },
   "outputs": [],
   "source": [
    "def print_table_surrounding(val,content, caption='', label=''):\n",
    "    columns = r''''''\n",
    "    for color in [dt['c'] for dt in comps_todo]:\n",
    "        # if color == 'c':\n",
    "        columns += r'''>{\\columncolor{%s}}c|''' %(color)\n",
    "        # else:\n",
    "        #     columns += r'''c|'''\n",
    "    out = r'''\n",
    "\\begin{table}[h!]\n",
    "\\begin{center}\n",
    "\\caption{%s}\n",
    "\\label{tab:%s}\n",
    "\\begin{tabular}{l||%s}\n",
    "%s\n",
    "\\end{tabular}\n",
    "\\end{center}\n",
    "\\end{table}\n",
    "''' %(caption,label,r'c|'*val.shape[1],content)\n",
    "    return out\n",
    "def print_table_header(val):\n",
    "    return r'{\\rotatebox[origin=c]{90}{version}} & ' +' & '.join([r'{\\rotatebox[origin=c]{90}{%s}} ' %(indicator_dict[ind].replace(' ','\\n')) for ind in val.indicator.values]) +' \\\\\\ \\\\hline \\\\hline \\n'\n",
    "\n",
    "def print_subheader(val,subheader):\n",
    "    return '\\multicolumn{%i}{c}{%s} \\\\\\\\' %(len(val)+1,subheader) + '\\\\hline \\\\hline \\n'\n",
    "\n",
    "def print_table(val, sig=None, highlight=np.argmax, subheader=''):\n",
    "    s = ''\n",
    "    for v in val.emu.values:\n",
    "        dt = [dt for dt in comps_todo if dt['v'] == v][0]\n",
    "        line = r'\\rowcolor{%s}' %(dt['c']) + '\\n' + dt['name']\n",
    "        for ind in val.indicator.values:\n",
    "            tmp = str(val.loc[v,ind].values)\n",
    "            if sig is not None:\n",
    "                tmp += siggi(sig.loc[v,ind].values)\n",
    "            line += ' & ' + tmp\n",
    "        s += line + ' \\\\\\\\ \\\\hline \\n'\n",
    "    return s\n",
    "\n",
    "def absmin(x):\n",
    "    return np.argmin(np.abs(x))\n"
   ]
  },
  {
   "cell_type": "code",
   "execution_count": 66,
   "metadata": {
    "collapsed": false,
    "jupyter": {
     "outputs_hidden": false
    }
   },
   "outputs": [
    {
     "data": {
      "text/plain": [
       "133"
      ]
     },
     "execution_count": 66,
     "metadata": {},
     "output_type": "execute_result"
    }
   ],
   "source": [
    "si = open('../written_latex/WCD/submission2/SI/sections/sensitivity.tex', 'w')\n",
    "s = r'''\n",
    "\\documentclass[float=false, crop=false]{standalone}\n",
    "\\usepackage[subpreambles=true]{standalone}\n",
    "\\usepackage{import}\n",
    "\\begin{document}\n",
    "'''\n",
    "si.write(s)\n",
    "\n"
   ]
  },
  {
   "cell_type": "code",
   "execution_count": 67,
   "metadata": {
    "collapsed": false,
    "jupyter": {
     "outputs_hidden": false
    }
   },
   "outputs": [
    {
     "data": {
      "text/plain": [
       "1468"
      ]
     },
     "execution_count": 67,
     "metadata": {},
     "output_type": "execute_result"
    }
   ],
   "source": [
    "# Tab: RMSD\n",
    "indicators = ['genesis','storm_days','Hur','MajHur','ACE']\n",
    "Z = xr.DataArray(coords={'emu':[dt['v'] for dt in comps_todo], 'indicator':indicators}, dims=['emu','indicator'])\n",
    "sig = Z.copy()\n",
    "for dt in comps_todo:\n",
    "    tag = '_'.join([dt[k] for k in ['g','sL','wS','Emu']])\n",
    "    vali = pickle.load(open(atl._dir_lvl4 + '/emulator/xValid/'+tag+'/validation.pkl', 'rb'))\n",
    "    for indicator in indicators:\n",
    "        Z.loc[dt['v'],indicator] = vali[indicator]['RMSD']\n",
    "s = print_table_header(Z)\n",
    "s += print_table(Z.round(2),highlight=absmin, subheader=indicator_dict[indicator])\n",
    "caption = r'''\n",
    "Root mean squared deviation for different indicators and versions of the emulator. See table \\ref{tab:versions} for more details on these versions.'''\n",
    "s = print_table_surrounding(Z, s, caption, 'rmsd')\n",
    "si.write(s)\n",
    "# print(s)"
   ]
  },
  {
   "cell_type": "code",
   "execution_count": 68,
   "metadata": {
    "collapsed": false,
    "jupyter": {
     "outputs_hidden": false
    }
   },
   "outputs": [
    {
     "data": {
      "text/plain": [
       "1504"
      ]
     },
     "execution_count": 68,
     "metadata": {},
     "output_type": "execute_result"
    }
   ],
   "source": [
    "# Tab: correlation\n",
    "indicators = ['genesis','storm_days','Hur','MajHur','ACE']\n",
    "Z = xr.DataArray(coords={'emu':[dt['v'] for dt in comps_todo], 'indicator':indicators}, dims=['emu','indicator'])\n",
    "sig = Z.copy()\n",
    "for dt in comps_todo:\n",
    "    tag = '_'.join([dt[k] for k in ['g','sL','wS','Emu']])\n",
    "    vali = pickle.load(open(atl._dir_lvl4 + '/emulator/xValid/'+tag+'/validation.pkl', 'rb'))\n",
    "    for indicator in indicators:\n",
    "        Z.loc[dt['v'],indicator] = vali[indicator]['pearson_median']['coef']\n",
    "s = print_table_header(Z)\n",
    "s += print_table(Z.round(2), highlight=np.max, subheader=indicator_dict[indicator])\n",
    "caption = r'''\n",
    "Pearson correlation coefficients between observations and the median of 1000 simulations for different indicators and versions of the emulator. See table \\ref{tab:versions} for more details on these versions.'''\n",
    "s = print_table_surrounding(Z, s, caption, 'corr')\n",
    "si.write(s)"
   ]
  },
  {
   "cell_type": "code",
   "execution_count": 69,
   "metadata": {
    "collapsed": false,
    "jupyter": {
     "outputs_hidden": false
    }
   },
   "outputs": [
    {
     "data": {
      "text/plain": [
       "1528"
      ]
     },
     "execution_count": 69,
     "metadata": {},
     "output_type": "execute_result"
    }
   ],
   "source": [
    "# Tab: trends\n",
    "indicators = ['genesis','storm_days','Hur','MajHur','ACE']\n",
    "Z = xr.DataArray(coords={'emu':[dt['v'] for dt in comps_todo], 'indicator':indicators}, dims=['emu','indicator'])\n",
    "sig = Z.copy()\n",
    "for dt in comps_todo:\n",
    "    tag = '_'.join([dt[k] for k in ['g','sL','wS','Emu']])\n",
    "    vali = pickle.load(open(atl._dir_lvl4 + '/emulator/xValid/'+tag+'/validation.pkl', 'rb'))\n",
    "    for indicator in indicators:\n",
    "        Z.loc[dt['v'],indicator] = vali[indicator]['trend_median']['slope']\n",
    "        sig.loc[dt['v'],indicator] = vali[indicator]['trend_median']['pval']\n",
    "s = print_table_header(Z)\n",
    "s += print_table(Z.round(2), sig=sig, highlight=absmin, subheader=indicator_dict[indicator])\n",
    "caption = r'''\n",
    "Linear trends in residuals between observations and the median of 1000 simulations for different indicators and versions of the emulator. See table \\ref{tab:versions} for more details on these versions.'''\n",
    "s = print_table_surrounding(Z, s, caption, 'trends')\n",
    "si.write(s)"
   ]
  },
  {
   "cell_type": "code",
   "execution_count": 70,
   "metadata": {
    "collapsed": false,
    "jupyter": {
     "outputs_hidden": false
    }
   },
   "outputs": [
    {
     "data": {
      "text/plain": [
       "1539"
      ]
     },
     "execution_count": 70,
     "metadata": {},
     "output_type": "execute_result"
    }
   ],
   "source": [
    "# Tab: trends vs SST\n",
    "indicators = ['genesis','storm_days','Hur','MajHur','ACE']\n",
    "Z = xr.DataArray(coords={'emu':[dt['v'] for dt in comps_todo], 'indicator':indicators}, dims=['emu','indicator'])\n",
    "sig = Z.copy()\n",
    "for dt in comps_todo:\n",
    "    tag = '_'.join([dt[k] for k in ['g','sL','wS','Emu']])\n",
    "    vali = pickle.load(open(atl._dir_lvl4 + '/emulator/xValid/'+tag+'/validation.pkl', 'rb'))\n",
    "    for indicator in indicators:\n",
    "        Z.loc[dt['v'],indicator] = vali[indicator]['trend_vs_SST_median']['slope']\n",
    "        sig.loc[dt['v'],indicator] = vali[indicator]['trend_vs_SST_median']['pval']\n",
    "s = print_table_header(Z)\n",
    "s += print_table(Z.round(2), sig=sig, highlight=absmin, subheader=indicator_dict[indicator])\n",
    "caption = r'''\n",
    "Linear trends in residuals between observations and the median of 1000 simulations for different indicators and versions of the emulator. See table \\ref{tab:versions} for more details on these versions.'''\n",
    "s = print_table_surrounding(Z, s, caption, 'trends')\n",
    "si.write(s)"
   ]
  },
  {
   "cell_type": "code",
   "execution_count": 71,
   "metadata": {
    "collapsed": false,
    "jupyter": {
     "outputs_hidden": false
    }
   },
   "outputs": [],
   "source": [
    "# Figs: correlation\n",
    "for indicator in ['genesis','storm_days','Hur','MajHur','ACE']:\n",
    "    s = r'''\\begin{figure}[h!]''' + '\\n'\n",
    "    for dt in comps_todo:\n",
    "        if (indicator == 'genesis' and 'formation' in dt['name']) or (indicator == 'storm_days' and 'intensification' not in dt['name']) or indicator not in ['genesis', 'storm_days'] or dt['name'] == 'main':\n",
    "            tag = '_'.join([dt[k] for k in ['g','sL','wS','Emu']])\n",
    "            s += r'''\\includegraphics[draft=false,width=0.32\\linewidth]{emulator/xValid/%s/seasonal_N1000_%s_sens.png}''' %(tag,indicator) + '\\n'\n",
    "    caption = r'Simulations of seasonal ' + indicator_dict[indicator] + ' for different versions of the emulator. The black line shows observations. The cyan line shows the median of 1000 simulations for each year, while the lighter (darker) shading shows the 66\\% (\\%95) of simulations.'\n",
    "    label = r'corr_%s' %(indicator)\n",
    "    s += r'\\caption{%s}\\label{fig:%s}' %(caption,label) + '\\n' + r'\\end{figure}' + '\\n\\n'\n",
    "    si.write(s)\n",
    "    # print(s)"
   ]
  },
  {
   "cell_type": "code",
   "execution_count": 72,
   "metadata": {
    "collapsed": false,
    "jupyter": {
     "outputs_hidden": false
    }
   },
   "outputs": [],
   "source": [
    "# Figs: residuals\n",
    "for indicator in ['genesis','storm_days','Hur','MajHur','ACE']:\n",
    "    s = r'''\\begin{figure}[h!]''' + '\\n'\n",
    "    for dt in comps_todo:\n",
    "        if (indicator == 'genesis' and 'formation' in dt['name']) or (indicator == 'storm_days' and 'intensification' not in dt['name']) or indicator not in ['genesis', 'storm_days'] or dt['name'] == 'main':\n",
    "            tag = '_'.join([dt[k] for k in ['g','sL','wS','Emu']])\n",
    "            s += r'''\\includegraphics[draft=false,width=0.32\\linewidth]{emulator/xValid/%s/seasonal_N1000_%s_residuals_sens.png}''' %(tag,indicator) + '\\n'\n",
    "    caption = r'Residuals of simulations of seasonal ' + indicator_dict[indicator] + ' for different versions of the emulator. The black line shows observations. The cyan line shows the median of 1000 simulations for each year, while the lighter (darker) shading shows the 66\\% (\\%95) of simulations.'\n",
    "    label = r'residuals_%s' %(indicator)\n",
    "    s += r'\\caption{%s}\\label{fig:%s}' %(caption,label) + '\\n' + r'\\end{figure}' + '\\n\\n'\n",
    "    si.write(s)"
   ]
  },
  {
   "cell_type": "code",
   "execution_count": 73,
   "metadata": {
    "collapsed": false,
    "jupyter": {
     "outputs_hidden": false
    }
   },
   "outputs": [],
   "source": [
    "# Figs: residuals vs SST\n",
    "for indicator in ['genesis','storm_days','Hur','MajHur','ACE']:\n",
    "    s = r'''\\begin{figure}[h!]''' + '\\n'\n",
    "    for dt in comps_todo:\n",
    "        if (indicator == 'genesis' and 'formation' in dt['name']) or (indicator == 'storm_days' and 'intensification' not in dt['name']) or indicator not in ['genesis', 'storm_days'] or dt['name'] == 'main':\n",
    "            tag = '_'.join([dt[k] for k in ['g','sL','wS','Emu']])\n",
    "            s += r'''\\includegraphics[draft=false,width=0.32\\linewidth]{emulator/xValid/%s/seasonal_N1000_%s_residuals_vs_SSTs_sens.png}''' %(tag,indicator) + '\\n'\n",
    "    caption = r'Residuals of simulations of seasonal ' + indicator_dict[indicator] + ' for different versions of the emulator. The black line shows observations. The cyan line shows the median of 1000 simulations for each year, while the lighter (darker) shading shows the 66\\% (\\%95) of simulations.'\n",
    "    label = r'residuals_%s' %(indicator)\n",
    "    s += r'\\caption{%s}\\label{fig:%s}' %(caption,label) + '\\n' + r'\\end{figure}' + '\\n\\n'\n",
    "    si.write(s)"
   ]
  },
  {
   "cell_type": "code",
   "execution_count": 74,
   "metadata": {
    "collapsed": false,
    "jupyter": {
     "outputs_hidden": false
    }
   },
   "outputs": [
    {
     "data": {
      "text/plain": [
       "570"
      ]
     },
     "execution_count": 74,
     "metadata": {},
     "output_type": "execute_result"
    }
   ],
   "source": [
    "# Figs: hist storm duration\n",
    "s = r'''\\begin{figure}[h!]''' + '\\n'\n",
    "for dt in comps_todo:\n",
    "    tag = '_'.join([dt[k] for k in ['g','sL','wS','Emu']])\n",
    "    if dt['sL'] != 'sLWeaNeigh' or tag == 'gWeaLag2Weight_sLWeaNeigh_wS100nnQrSST_Emu0':\n",
    "        s += r'''\\includegraphics[draft=false,width=0.32\\linewidth]{emulator/xValid/%s/hist_duration_N1000_sens.png}''' %(tag) + '\\n'\n",
    "caption = r'''\n",
    "Histogram of storm durations for observed storms (blue) and simulated storms (orange).\n",
    "'''\n",
    "label = r'hist_duration'\n",
    "s += r'\\caption{%s}\\label{fig:%s}' %(caption,label) + '\\n' + r'\\end{figure}' + '\\n\\n'\n",
    "si.write(s)"
   ]
  },
  {
   "cell_type": "code",
   "execution_count": 75,
   "metadata": {
    "collapsed": false,
    "jupyter": {
     "outputs_hidden": false
    }
   },
   "outputs": [],
   "source": [
    "si.write(r'\\end{document}')\n",
    "si.close()"
   ]
  },
  {
   "cell_type": "code",
   "execution_count": 31,
   "metadata": {
    "collapsed": false,
    "jupyter": {
     "outputs_hidden": false
    }
   },
   "outputs": [],
   "source": []
  },
  {
   "cell_type": "code",
   "execution_count": 39,
   "metadata": {
    "collapsed": false,
    "jupyter": {
     "outputs_hidden": false
    }
   },
   "outputs": [],
   "source": []
  },
  {
   "cell_type": "code",
   "execution_count": null,
   "metadata": {
    "collapsed": false,
    "jupyter": {
     "outputs_hidden": false
    }
   },
   "outputs": [],
   "source": [
    "# # Tab: versions\n",
    "# s = r'version & formation & duration & intensification \\\\ \\hline' + '\\n'\n",
    "# for dt in comps_todo:\n",
    "#     tag = '_'.join([dt[k] for k in ['g','sL','wS','Emu']])\n",
    "#     s += r'\\rowcolor{%s}' %(dt['c']) + '\\n' + dt['v']\n",
    "#     for comp in ['g','sL','wS']:\n",
    "#         s += ' & %s ' %(comp_names[dt[comp]])\n",
    "#     s += '\\\\\\\\ \\n'\n",
    "\n",
    "# s = r'''\n",
    "# \\begin{table}[h!]\n",
    "# \\begin{center}\n",
    "# \\caption{%s}\n",
    "# \\label{tab:%s}\n",
    "# \\begin{tabular}{r||%s}\n",
    "# %s\n",
    "# \\end{tabular}\n",
    "# \\end{center}\n",
    "# \\end{table}\n",
    "# ''' %('Variations of emulator designs.\\newline','versions','c|c|c',s)\n",
    "# si.write(s)\n",
    "# # print(s)"
   ]
  },
  {
   "cell_type": "code",
   "execution_count": 29,
   "metadata": {
    "collapsed": false,
    "jupyter": {
     "outputs_hidden": false
    }
   },
   "outputs": [
    {
     "data": {
      "text/plain": [
       "1082"
      ]
     },
     "execution_count": 29,
     "metadata": {},
     "output_type": "execute_result"
    }
   ],
   "source": [
    "# Figs: intensity vs storm day\n",
    "s = r'''\\begin{figure}[h!]''' + '\\n'\n",
    "for dt in comps_todo:\n",
    "    tag = '_'.join([dt[k] for k in ['g','sL','wS','Emu']])\n",
    "    if dt['wS'] != 'wS100nnQrSST' or tag == 'gWeaLag2Weight_sLWeaNeigh_wS100nnQrSST_Emu0':\n",
    "        s += r'''\\includegraphics[draft=false,width=0.32\\linewidth]{emulator/xValid/%s/stoD_vs_wind_N1000_sens.png}''' %(tag) + '\\n'\n",
    "caption = r'''\n",
    "Daily intensity of a storm against the storm day. Gray shadings indicate kernel density estimates from observations, while colored contour-lines show the simualtions.\n",
    "'''\n",
    "label = r'2D_wind_vs_day'\n",
    "s += r'\\caption{%s}\\label{fig:%s}' %(caption,label) + '\\n' + r'\\end{figure}' + '\\n\\n'\n",
    "si.write(s)"
   ]
  },
  {
   "cell_type": "code",
   "execution_count": 30,
   "metadata": {
    "collapsed": false,
    "jupyter": {
     "outputs_hidden": false
    }
   },
   "outputs": [
    {
     "data": {
      "text/plain": [
       "1086"
      ]
     },
     "execution_count": 30,
     "metadata": {},
     "output_type": "execute_result"
    }
   ],
   "source": [
    "# Figs: d intensity vs storm day\n",
    "s = r'''\\begin{figure}[h!]''' + '\\n'\n",
    "for dt in comps_todo:\n",
    "    tag = '_'.join([dt[k] for k in ['g','sL','wS','Emu']])\n",
    "    if dt['wS'] != 'wS100nnQrSST' or tag == 'gWeaLag2Weight_sLWeaNeigh_wS100nnQrSST_Emu0':\n",
    "        s += r'''\\includegraphics[draft=false,width=0.32\\linewidth]{emulator/xValid/%s/stoD_vs_dWind_N1000_sens.png}''' %(tag) + '\\n'\n",
    "caption = r'''\n",
    "Daily intensity change  against the storm day. Gray shadings indicate kernel density estimates from observations, while colored contour-lines show the simualtions.\n",
    "'''\n",
    "label = r'2D_dWind_vs_day'\n",
    "s += r'\\caption{%s}\\label{fig:%s}' %(caption,label) + '\\n' + r'\\end{figure}' + '\\n\\n'\n",
    "si.write(s)"
   ]
  },
  {
   "cell_type": "code",
   "execution_count": 37,
   "metadata": {
    "collapsed": false,
    "jupyter": {
     "outputs_hidden": false
    }
   },
   "outputs": [
    {
     "data": {
      "text/plain": [
       "1137"
      ]
     },
     "execution_count": 37,
     "metadata": {},
     "output_type": "execute_result"
    }
   ],
   "source": [
    "# Figs: max intensity vs storm duration\n",
    "s = r'''\\begin{figure}[h!]''' + '\\n'\n",
    "for dt in comps_todo:\n",
    "    tag = '_'.join([dt[k] for k in ['g','sL','wS','Emu']])\n",
    "    if dt['wS'] != 'wS100nnQrSST' or tag == 'gWeaLag2Weight_sLWeaNeigh_wS100nnQrSST_Emu0':\n",
    "        s += r'''\\includegraphics[draft=false,width=0.32\\linewidth]{emulator/xValid/%s/hstoMaxWind_vs_stoLen_N1000_sens.png}''' %(tag) + '\\n'\n",
    "caption = r'''\n",
    "Maximal intensity of a storm against its duration. Gray shadings indicate kernel density estimates from observations, while colored contour-lines show the simualtions.\n",
    "'''\n",
    "label = r'2D_LMIvsStoLen'\n",
    "s += r'\\caption{%s}\\label{fig:%s}' %(caption,label) + '\\n' + r'\\end{figure}' + '\\n\\n'\n",
    "si.write(s)"
   ]
  }
 ],
 "metadata": {
  "kernelspec": {
   "display_name": "py_main",
   "language": "python",
   "name": "py_main"
  },
  "language_info": {
   "codemirror_mode": {
    "name": "ipython",
    "version": 3
   },
   "file_extension": ".py",
   "mimetype": "text/x-python",
   "name": "python",
   "nbconvert_exporter": "python",
   "pygments_lexer": "ipython3",
   "version": "3.9.7"
  },
  "name": "5_write_SI.ipynb"
 },
 "nbformat": 4,
 "nbformat_minor": 4
}
