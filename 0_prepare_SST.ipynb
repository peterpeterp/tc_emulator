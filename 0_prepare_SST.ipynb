{
 "cells": [
  {
   "cell_type": "code",
   "execution_count": 1,
   "id": "a4bced41-0ad4-4ce3-b480-ee96d64096c3",
   "metadata": {},
   "outputs": [],
   "source": [
    "import os,sys,glob,gc\n",
    "import numpy as np\n",
    "import xarray as xr\n",
    "import xesmf as xe"
   ]
  },
  {
   "cell_type": "code",
   "execution_count": 2,
   "id": "02a112c9-eef3-46e3-ad44-165237fb8db6",
   "metadata": {},
   "outputs": [
    {
     "name": "stdout",
     "output_type": "stream",
     "text": [
      "/home/peter/Projects/data/SST/OISST/sst.day.mean.1982.nc\n",
      "/home/peter/Projects/data/SST/OISST/sst.day.mean.1983.nc\n",
      "/home/peter/Projects/data/SST/OISST/sst.day.mean.1984.nc\n",
      "/home/peter/Projects/data/SST/OISST/sst.day.mean.1985.nc\n",
      "/home/peter/Projects/data/SST/OISST/sst.day.mean.1986.nc\n",
      "/home/peter/Projects/data/SST/OISST/sst.day.mean.1987.nc\n",
      "/home/peter/Projects/data/SST/OISST/sst.day.mean.1988.nc\n",
      "/home/peter/Projects/data/SST/OISST/sst.day.mean.1989.nc\n",
      "/home/peter/Projects/data/SST/OISST/sst.day.mean.1990.nc\n",
      "/home/peter/Projects/data/SST/OISST/sst.day.mean.1991.nc\n",
      "/home/peter/Projects/data/SST/OISST/sst.day.mean.1992.nc\n",
      "/home/peter/Projects/data/SST/OISST/sst.day.mean.1993.nc\n",
      "/home/peter/Projects/data/SST/OISST/sst.day.mean.1994.nc\n",
      "/home/peter/Projects/data/SST/OISST/sst.day.mean.1995.nc\n",
      "/home/peter/Projects/data/SST/OISST/sst.day.mean.1996.nc\n",
      "/home/peter/Projects/data/SST/OISST/sst.day.mean.1997.nc\n",
      "/home/peter/Projects/data/SST/OISST/sst.day.mean.1998.nc\n",
      "/home/peter/Projects/data/SST/OISST/sst.day.mean.1999.nc\n",
      "/home/peter/Projects/data/SST/OISST/sst.day.mean.2000.nc\n",
      "/home/peter/Projects/data/SST/OISST/sst.day.mean.2001.nc\n",
      "/home/peter/Projects/data/SST/OISST/sst.day.mean.2002.nc\n",
      "/home/peter/Projects/data/SST/OISST/sst.day.mean.2003.nc\n",
      "/home/peter/Projects/data/SST/OISST/sst.day.mean.2004.nc\n",
      "/home/peter/Projects/data/SST/OISST/sst.day.mean.2005.nc\n",
      "/home/peter/Projects/data/SST/OISST/sst.day.mean.2006.nc\n",
      "/home/peter/Projects/data/SST/OISST/sst.day.mean.2007.nc\n",
      "/home/peter/Projects/data/SST/OISST/sst.day.mean.2008.nc\n",
      "/home/peter/Projects/data/SST/OISST/sst.day.mean.2009.nc\n",
      "/home/peter/Projects/data/SST/OISST/sst.day.mean.2010.nc\n",
      "/home/peter/Projects/data/SST/OISST/sst.day.mean.2011.nc\n",
      "/home/peter/Projects/data/SST/OISST/sst.day.mean.2012.nc\n",
      "/home/peter/Projects/data/SST/OISST/sst.day.mean.2013.nc\n",
      "/home/peter/Projects/data/SST/OISST/sst.day.mean.2014.nc\n",
      "/home/peter/Projects/data/SST/OISST/sst.day.mean.2015.nc\n",
      "/home/peter/Projects/data/SST/OISST/sst.day.mean.2016.nc\n",
      "/home/peter/Projects/data/SST/OISST/sst.day.mean.2017.nc\n",
      "/home/peter/Projects/data/SST/OISST/sst.day.mean.2018.nc\n",
      "/home/peter/Projects/data/SST/OISST/sst.day.mean.2019.nc\n",
      "/home/peter/Projects/data/SST/OISST/sst.day.mean.2020.nc\n"
     ]
    }
   ],
   "source": [
    "raw_search_string = '/home/peter/Projects/data/SST/OISST/*'\n",
    "\n",
    "first = True\n",
    "for file_ in sorted(glob.glob(raw_search_string)):\n",
    "    print(file_)\n",
    "    sst = xr.open_dataset(file_)['sst']\n",
    "    data = sst.loc[:,10:20,360-90:360-20]\n",
    "\n",
    "    lat_weight = np.cos(np.deg2rad(data.lat.values))\n",
    "    lat_weight_array = np.repeat(lat_weight[np.newaxis,:], data.shape[2], 0).T\n",
    "\n",
    "    tmp_sst = data[:,0,0].copy()\n",
    "    valid = np.isfinite(data[0,:,:].values)\n",
    "    tmp_sst.values = np.nansum(data * lat_weight_array, axis=(1,2)) / np.sum(lat_weight_array[valid])\n",
    "\n",
    "    if first:\n",
    "        sst_MDR = tmp_sst\n",
    "        first = False\n",
    "    else:\n",
    "        sst_MDR = xr.concat((sst_MDR,tmp_sst), dim='time')"
   ]
  },
  {
   "cell_type": "code",
   "execution_count": 3,
   "id": "96b6cf71-c239-45e5-bb6e-ddbe16ca0514",
   "metadata": {},
   "outputs": [],
   "source": [
    "xr.Dataset({'sst':sst_MDR}).to_netcdf('/home/peter/Projects/data/SST/OISST_sst_MDR_1981-2019_daily.nc')"
   ]
  },
  {
   "cell_type": "code",
   "execution_count": null,
   "id": "45665c93-3a56-433d-b36d-2a5da06fd71d",
   "metadata": {},
   "outputs": [],
   "source": []
  }
 ],
 "metadata": {
  "kernelspec": {
   "display_name": "py_main",
   "language": "python",
   "name": "py_main"
  },
  "language_info": {
   "codemirror_mode": {
    "name": "ipython",
    "version": 3
   },
   "file_extension": ".py",
   "mimetype": "text/x-python",
   "name": "python",
   "nbconvert_exporter": "python",
   "pygments_lexer": "ipython3",
   "version": "3.9.7"
  }
 },
 "nbformat": 4,
 "nbformat_minor": 5
}
